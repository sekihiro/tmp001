{
 "cells": [
  {
   "cell_type": "code",
   "execution_count": 1,
   "metadata": {},
   "outputs": [],
   "source": [
    "import os, sys, pprint\n",
    "import pandas as pd\n",
    "import numpy as np"
   ]
  },
  {
   "cell_type": "code",
   "execution_count": 2,
   "metadata": {},
   "outputs": [
    {
     "name": "stdout",
     "output_type": "stream",
     "text": [
      "<class 'numpy.ndarray'>\n",
      "array([[ 1.5000000e+00,  0.0000000e+00],\n",
      "       [ 0.0000000e+00,  3.0000000e+00],\n",
      "       [-9.1000000e+00,  9.9000000e+01],\n",
      "       [-1.0000000e-02, -6.5210987e+00]])\n"
     ]
    }
   ],
   "source": [
    "# データ作成 (NUmpy)\n",
    "in_array = np.array([\n",
    "        [1.5, 0],\n",
    "        [0, 3.0],\n",
    "        [-9.1, 99],\n",
    "        [-0.01, -6.5210987],\n",
    "    ])\n",
    "\n",
    "print(type(in_array))\n",
    "pprint.pprint(in_array)"
   ]
  },
  {
   "cell_type": "code",
   "execution_count": 3,
   "metadata": {},
   "outputs": [
    {
     "name": "stdout",
     "output_type": "stream",
     "text": [
      "      0          1\n",
      "0  1.50   0.000000\n",
      "1  0.00   3.000000\n",
      "2 -9.10  99.000000\n",
      "3 -0.01  -6.521099\n",
      "---------------------\n",
      "         0        1\n",
      "0  1.50000  0.00000\n",
      "1  0.00000  3.00000\n",
      "2 -9.10000 99.00000\n",
      "3 -0.01000 -6.52110\n"
     ]
    }
   ],
   "source": [
    "# NumPy配列をDataFrameに変換\n",
    "df1 = pd.DataFrame(in_array)\n",
    "pprint.pprint(df1)\n",
    "\n",
    "print('---------------------')\n",
    "pd.options.display.float_format = '{:.5f}'.format\n",
    "df1 = pd.DataFrame(in_array)\n",
    "pprint.pprint(df1)"
   ]
  },
  {
   "cell_type": "code",
   "execution_count": 4,
   "metadata": {},
   "outputs": [
    {
     "name": "stdout",
     "output_type": "stream",
     "text": [
      "      col1     col2\n",
      "0  1.50000  0.00000\n",
      "1  0.00000  3.00000\n",
      "2 -9.10000 99.00000\n",
      "3 -0.01000 -6.52110\n"
     ]
    }
   ],
   "source": [
    "# 列名を設定\n",
    "df1.columns = ['col1', 'col2']\n",
    "print(df1)"
   ]
  },
  {
   "cell_type": "code",
   "execution_count": 5,
   "metadata": {},
   "outputs": [
    {
     "name": "stdout",
     "output_type": "stream",
     "text": [
      "0\t1.5\t0.0\n",
      "1\t0.0\t3.0\n",
      "2\t-9.1\t99.0\n",
      "3\t-0.01\t-6.5210987\n"
     ]
    }
   ],
   "source": [
    "# DFを1行ずつ処理\n",
    "for idx, row in df1.iterrows():\n",
    "    print('{}\\t{}\\t{}'.format(idx, row.col1, row.col2))"
   ]
  },
  {
   "cell_type": "code",
   "execution_count": 28,
   "metadata": {},
   "outputs": [
    {
     "name": "stdout",
     "output_type": "stream",
     "text": [
      "0\tPandas(Index=0, col1=1.5, col2=0.0)\n",
      "1.5\n",
      "1\tPandas(Index=1, col1=0.0, col2=3.0)\n",
      "0.0\n",
      "2\tPandas(Index=2, col1=-9.1, col2=99.0)\n",
      "-9.1\n",
      "3\tPandas(Index=3, col1=-0.01, col2=-6.5210987)\n",
      "-0.01\n"
     ]
    }
   ],
   "source": [
    "for idx, row in enumerate(df1.itertuples()):\n",
    "    print('{}\\t{}'.format(idx, row))\n",
    "    print(row[1])"
   ]
  },
  {
   "cell_type": "code",
   "execution_count": 13,
   "metadata": {},
   "outputs": [
    {
     "name": "stdout",
     "output_type": "stream",
     "text": [
      "<class 'pandas.core.frame.DataFrame'>\n",
      "     col1    col2\n",
      "0 1.50000 0.00000\n",
      "1 0.00000 3.00000\n",
      "---------------\n",
      "0\t1.5\t0.0\n",
      "1\t0.0\t3.0\n"
     ]
    }
   ],
   "source": [
    "ret1 = df1.query('col1 >= 0')\n",
    "print(type(ret1))\n",
    "pprint.pprint(ret1)\n",
    "\n",
    "print('---------------')\n",
    "\n",
    "for idx, row in ret1.iterrows():\n",
    "    print('{}\\t{}\\t{}'.format(idx, row.col1, row.col2))"
   ]
  },
  {
   "cell_type": "code",
   "execution_count": 16,
   "metadata": {},
   "outputs": [
    {
     "name": "stdout",
     "output_type": "stream",
     "text": [
      "     col1    col2\n",
      "1 0.00000 3.00000\n"
     ]
    }
   ],
   "source": [
    "print(df1.query('col1 >= 0 and col2 > 0'))"
   ]
  },
  {
   "cell_type": "code",
   "execution_count": 17,
   "metadata": {},
   "outputs": [
    {
     "name": "stdout",
     "output_type": "stream",
     "text": [
      "     col1    col2\n",
      "1 0.00000 3.00000\n"
     ]
    }
   ],
   "source": [
    "print(df1.query('1.5 > col1 >= 0'))"
   ]
  },
  {
   "cell_type": "code",
   "execution_count": 22,
   "metadata": {},
   "outputs": [
    {
     "name": "stdout",
     "output_type": "stream",
     "text": [
      "     col1    col2\n",
      "1 0.00000 3.00000\n"
     ]
    }
   ],
   "source": [
    "print(df1.query('(1.5 > col1 >= 0) and col2 == 3.0'))"
   ]
  },
  {
   "cell_type": "code",
   "execution_count": 19,
   "metadata": {},
   "outputs": [
    {
     "name": "stdout",
     "output_type": "stream",
     "text": [
      "     col1    col2\n",
      "1 0.00000 3.00000\n"
     ]
    }
   ],
   "source": [
    "val1 = 1.5\n",
    "val2 = 0.0\n",
    "print(df1.query('@val1 > col1 >= @val2'))"
   ]
  },
  {
   "cell_type": "code",
   "execution_count": null,
   "metadata": {},
   "outputs": [],
   "source": []
  }
 ],
 "metadata": {
  "kernelspec": {
   "display_name": "Python 3",
   "language": "python",
   "name": "python3"
  },
  "language_info": {
   "codemirror_mode": {
    "name": "ipython",
    "version": 3
   },
   "file_extension": ".py",
   "mimetype": "text/x-python",
   "name": "python",
   "nbconvert_exporter": "python",
   "pygments_lexer": "ipython3",
   "version": "3.6.9"
  }
 },
 "nbformat": 4,
 "nbformat_minor": 4
}
